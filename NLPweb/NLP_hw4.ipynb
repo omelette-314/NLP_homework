{
 "cells": [
  {
   "cell_type": "code",
   "execution_count": 64,
   "metadata": {},
   "outputs": [
    {
     "name": "stdout",
     "output_type": "stream",
     "text": [
      "\n",
      "<!doctype html>\n",
      "<html lang=\"en\">\n",
      "<head>\n",
      "    <meta content=\"text/html;charset=UTF-8\" http-equiv=\"Content-Type\" />\n",
      "    <script src='https://s3.amazonaws.com/mturk-public/externalHIT_v1.js' type='text/javascript'></script>\n",
      "    <link rel=\"stylesheet\" href=\"https://cdnjs.cloudflare.com/ajax/libs/twitter-bootstrap/4.5.0/css/bootstrap.min.css\" integrity=\"sha256-aAr2Zpq8MZ+YA/D6JtRD3xtrwpEz2IqOS+pWD/7XKIw=\" crossorigin=\"anonymous\" />\n",
      "    <script src=\"https://cdnjs.cloudflare.com/ajax/libs/jquery/3.5.1/jquery.min.js\" integrity=\"sha256-9/aliU8dGd2tb6OSsuzixeV4y/faTqgFtohetphbbj0=\" crossorigin=\"anonymous\"></script>\n",
      "    <script src=\"https://cdnjs.cloudflare.com/ajax/libs/PapaParse/5.1.0/papaparse.min.js\" integrity=\"sha256-Fh801SO9gqegfUdkDxyzXzIUPWzO/Vatqj8uN+5xcL4=\" crossorigin=\"anonymous\"></script>\n",
      "    <script src=\"https://cdnjs.cloudflare.com/ajax/libs/twitter-bootstrap/4.5.0/js/bootstrap.min.js\" integrity=\"sha256-OFRAJNoaD8L3Br5lglV7VyLRf0itmoBzWUoM+Sji4/8=\" crossorigin=\"anonymous\"></script>\n",
      "</head>\n",
      "<body style=\"padding: 2cm;\">\n",
      "    <form id=\"mturk_form\" method=\"post\" name=\"mturk_form\">\n",
      "        <input type=\"hidden\" id=\"assignmentId\" value=\"\" name=\"assignmentId\"/>\n",
      "        Label the emotion of the tweet.\n",
      "        <p id=\"tweet\" style=\"font-size: larger;font-family: Helvetica;background-color:red;color:aliceblue;padding:15px;\"></p>\n",
      "        <input type=\"number\" name=\"tweet-idx\" value=\"\" id=\"tweet-idx\" hidden>\n",
      "        <input type=\"number\" name=\"tweet-length\" value=\"\" id=\"tweet-length\" hidden>\n",
      "        <input type=\"number\" name=\"counter\" value=\"0\" id=\"counter\" hidden>\n",
      "        <b>How much <span style=\"color:red;\">valence</span> do you feel in this tweet?</b><br>\n",
      "        <input name=\"ValenceVal\" type=\"radio\" value=\"1\"/>1 (lowest)<br>\n",
      "        <input name=\"ValenceVal\" type=\"radio\" value=\"2\"/>2<br>\n",
      "        <input name=\"ValenceVal\" type=\"radio\" value=\"3\"/>3 (medium)<br>\n",
      "        <input name=\"ValenceVal\" type=\"radio\" value=\"4\"/>4<br>\n",
      "        <input name=\"ValenceVal\" type=\"radio\" value=\"5\"/>5 (highest)<br><br>\n",
      "\n",
      "        <b>How much <span style=\"color:red;\">arousal </span>do you feel in this tweet?</b><br>\n",
      "        <input name=\"ArousalVal\" type=\"radio\" value=\"1\"/>1 (lowest)<br>\n",
      "        <input name=\"ArousalVal\" type=\"radio\" value=\"2\"/>2<br>\n",
      "        <input name=\"ArousalVal\" type=\"radio\" value=\"3\"/>3 (medium)<br>\n",
      "        <input name=\"ArousalVal\" type=\"radio\" value=\"4\"/>4<br>\n",
      "        <input name=\"ArousalVal\" type=\"radio\" value=\"5\"/>5 (highest)<br><br>\n",
      "\n",
      "        <b>How much <span style=\"color:red;\">dominance </span>do you feel in this tweet?</b><br>\n",
      "        <input name=\"DominanceVal\" type=\"radio\" value=\"1\"/>1 (lowest)<br>\n",
      "        <input name=\"DominanceVal\" type=\"radio\" value=\"2\"/>2<br>\n",
      "        <input name=\"DominanceVal\" type=\"radio\" value=\"3\"/>3 (medium)<br>\n",
      "        <input name=\"DominanceVal\" type=\"radio\" value=\"4\"/>4<br>\n",
      "        <input name=\"DominanceVal\" type=\"radio\" value=\"5\"/>5 (highest)<br><br>\n",
      "\n",
      "        <input type=\"submit\" id=\"submitButton\" value=\"Submit\" readonly disabled>\n",
      "        <div style=\"display: flex; flex-direction: row;\"> \n",
      "          <span>Time left: </span><label for=\"submitButton\" id=\"timeLeft\"></label><span>seconds</span>\n",
      "        </div>\n",
      "    </form>\n",
      "    <script language='Javascript'>turkSetAssignmentID();</script> \n",
      "</body>\n",
      "    <script type=\"text/javascript\">\n",
      "      function getRandomInt(max) {\n",
      "        return Math.floor(Math.random() * Math.floor(max));\n",
      "      }\n",
      "      var timeoutID;\n",
      "      let counter = 0;\n",
      "      Papa.parse(\"https://gist.githubusercontent.com/bshmueli/c99fc0abf56460e644bd610bf3024e83/raw/720285d133c85d94e0aa3fe3edcc199f6d99e3f7/lab4-data.csv\", {\n",
      "        download: true,\n",
      "        header: true,\n",
      "        complete: function(results) {\n",
      "          console.log(results.data)\n",
      "          let randomNum = getRandomInt(results.data.length);\n",
      "          document.getElementById('tweet').innerHTML = results.data[randomNum].text;\n",
      "          document.getElementById('tweet-idx').value = results.data[randomNum].idx;\n",
      "          document.getElementById('tweet-length').value = results.data[randomNum].text.length;\n",
      "          document.getElementById('timeLeft').innerHTML = Math.ceil(results.data[randomNum].text.length / 100);\n",
      "          timeoutID = window.setInterval(function(){\n",
      "            counter++;\n",
      "            document.getElementById('counter').value = counter;\n",
      "            var countdownNum = parseInt(document.getElementById(\"timeLeft\").innerHTML)\n",
      "            if(countdownNum > 0){\n",
      "              countdownNum--;\n",
      "              document.getElementById('timeLeft').innerHTML = countdownNum;\n",
      "            } else {\n",
      "              document.getElementById('timeLeft').innerHTML = '0';\n",
      "              document.getElementById('submitButton').disabled = null;\n",
      "            }\n",
      "          }, 1000);\n",
      "      }});\n",
      "      window.setTimeout(function(){\n",
      "        console.log('Set Time out'); \n",
      "      }, 1000);\n",
      "      </script>\n",
      "</html>\n",
      "<p class=\"text-center\"><input type=\"submit\" id=\"submitButton\" class=\"btn btn-primary\" value=\"Submit\" /></p></form><script language=\"Javascript\">turkSetAssignmentID();</script></body></html>\n"
     ]
    }
   ],
   "source": [
    "import codecs\n",
    "f=codecs.open(\"NLP_TWEET_1.html\", 'r')\n",
    "print (f.read())"
   ]
  },
  {
   "cell_type": "code",
   "execution_count": 13,
   "metadata": {},
   "outputs": [
    {
     "ename": "ValueError",
     "evalue": "I/O operation on closed file.",
     "output_type": "error",
     "traceback": [
      "\u001b[0;31m---------------------------------------------------------------------------\u001b[0m",
      "\u001b[0;31mValueError\u001b[0m                                Traceback (most recent call last)",
      "\u001b[0;32m<ipython-input-13-b5738ce32f38>\u001b[0m in \u001b[0;36m<module>\u001b[0;34m()\u001b[0m\n\u001b[0;32m----> 1\u001b[0;31m \u001b[0mprint\u001b[0m\u001b[0;34m(\u001b[0m\u001b[0mf\u001b[0m\u001b[0;34m.\u001b[0m\u001b[0mreadline\u001b[0m\u001b[0;34m(\u001b[0m\u001b[0;34m)\u001b[0m\u001b[0;34m[\u001b[0m\u001b[0;36m0\u001b[0m\u001b[0;34m]\u001b[0m\u001b[0;34m)\u001b[0m\u001b[0;34m\u001b[0m\u001b[0;34m\u001b[0m\u001b[0m\n\u001b[0m",
      "\u001b[0;31mValueError\u001b[0m: I/O operation on closed file."
     ]
    }
   ],
   "source": [
    "print(f.readline()[0])"
   ]
  },
  {
   "cell_type": "code",
   "execution_count": 65,
   "metadata": {},
   "outputs": [
    {
     "name": "stdout",
     "output_type": "stream",
     "text": [
      "82\n",
      "<html lang=\"en\">\n",
      "\n"
     ]
    }
   ],
   "source": [
    "texts=[]\n",
    "with open(\"NLP_TWEET_1.html\", \"r\", encoding='utf-8') as f:\n",
    "    text= f.readlines()\n",
    "    print(len(text))\n",
    "    #texts = text.split('\\n')\n",
    "    print(text[2])\n",
    "    texts.append(text)\n",
    "texts = texts[0]"
   ]
  },
  {
   "cell_type": "code",
   "execution_count": 70,
   "metadata": {},
   "outputs": [
    {
     "data": {
      "text/plain": [
       "'          let randomNum = getRandomInt(results.data.length);\\n'"
      ]
     },
     "execution_count": 70,
     "metadata": {},
     "output_type": "execute_result"
    }
   ],
   "source": [
    "texts[58]"
   ]
  },
  {
   "cell_type": "code",
   "execution_count": 71,
   "metadata": {},
   "outputs": [],
   "source": [
    "for i in range(377):\n",
    "    texts[58] = '          let randomNum = '+str(i)+';\\n'\n",
    "    with open(str(i)+'.html', 'w') as outfile:\n",
    "        for lines in texts:\n",
    "            outfile.write(lines)"
   ]
  },
  {
   "cell_type": "code",
   "execution_count": 11,
   "metadata": {},
   "outputs": [
    {
     "ename": "ModuleNotFoundError",
     "evalue": "No module named 'bs4'",
     "output_type": "error",
     "traceback": [
      "\u001b[0;31m---------------------------------------------------------------------------\u001b[0m",
      "\u001b[0;31mModuleNotFoundError\u001b[0m                       Traceback (most recent call last)",
      "\u001b[0;32m<ipython-input-11-f30063422f85>\u001b[0m in \u001b[0;36m<module>\u001b[0;34m()\u001b[0m\n\u001b[1;32m      1\u001b[0m \u001b[0;32mfrom\u001b[0m \u001b[0m__future__\u001b[0m \u001b[0;32mimport\u001b[0m \u001b[0mdivision\u001b[0m\u001b[0;34m,\u001b[0m \u001b[0municode_literals\u001b[0m\u001b[0;34m\u001b[0m\u001b[0;34m\u001b[0m\u001b[0m\n\u001b[1;32m      2\u001b[0m \u001b[0;32mimport\u001b[0m \u001b[0mcodecs\u001b[0m\u001b[0;34m\u001b[0m\u001b[0;34m\u001b[0m\u001b[0m\n\u001b[0;32m----> 3\u001b[0;31m \u001b[0;32mfrom\u001b[0m \u001b[0mbs4\u001b[0m \u001b[0;32mimport\u001b[0m \u001b[0mBeautifulSoup\u001b[0m\u001b[0;34m\u001b[0m\u001b[0;34m\u001b[0m\u001b[0m\n\u001b[0m\u001b[1;32m      4\u001b[0m \u001b[0;34m\u001b[0m\u001b[0m\n\u001b[1;32m      5\u001b[0m \u001b[0mf\u001b[0m\u001b[0;34m=\u001b[0m\u001b[0mcodecs\u001b[0m\u001b[0;34m.\u001b[0m\u001b[0mopen\u001b[0m\u001b[0;34m(\u001b[0m\u001b[0;34m\"NLP_TWEET_1.html\"\u001b[0m\u001b[0;34m,\u001b[0m \u001b[0;34m'r'\u001b[0m\u001b[0;34m,\u001b[0m \u001b[0;34m'utf-8'\u001b[0m\u001b[0;34m)\u001b[0m\u001b[0;34m\u001b[0m\u001b[0;34m\u001b[0m\u001b[0m\n",
      "\u001b[0;31mModuleNotFoundError\u001b[0m: No module named 'bs4'"
     ]
    }
   ],
   "source": [
    "from __future__ import division, unicode_literals \n",
    "import codecs\n",
    "from bs4 import BeautifulSoup\n",
    "\n",
    "f=codecs.open(\"NLP_TWEET_1.html\", 'r', 'utf-8')\n",
    "document= BeautifulSoup(f.read()).get_text()\n",
    "print (document)"
   ]
  },
  {
   "cell_type": "code",
   "execution_count": 36,
   "metadata": {},
   "outputs": [],
   "source": [
    "import pandas as pd\n",
    "import numpy as np\n",
    "train_file = pd.read_csv(\"https://gist.githubusercontent.com/bshmueli/c99fc0abf56460e644bd610bf3024e83/raw/720285d133c85d94e0aa3fe3edcc199f6d99e3f7/lab4-data.csv\")"
   ]
  },
  {
   "cell_type": "code",
   "execution_count": 47,
   "metadata": {},
   "outputs": [
    {
     "data": {
      "text/plain": [
       "Index(['idx', 'text'], dtype='object')"
      ]
     },
     "execution_count": 47,
     "metadata": {},
     "output_type": "execute_result"
    }
   ],
   "source": [
    "train_file.columns"
   ]
  },
  {
   "cell_type": "code",
   "execution_count": 53,
   "metadata": {},
   "outputs": [],
   "source": [
    "temp=0\n",
    "for i in range(len(train_file)):\n",
    "    temp +=len(train_file.iloc[i,1])\n",
    "temp = temp/len(train_file)\n",
    "reward = [1.0 if len(i)>=temp else 0.5  for i in train_file['text']]"
   ]
  },
  {
   "cell_type": "code",
   "execution_count": 51,
   "metadata": {},
   "outputs": [],
   "source": [
    "import boto3\n",
    "import pandas as pd\n",
    "\n",
    "CREDENTIALS_FILE = 'credentials.csv'\n",
    "credentials = pd.read_csv(CREDENTIALS_FILE).to_dict('records')[0]\n",
    "aws_access_key_id = credentials['Access key ID']\n",
    "aws_secret_access_key = credentials['Secret access key']\n",
    "\n",
    "region_name = 'us-east-1'\n",
    "endpoint_url = 'https://mturk-requester-sandbox.us-east-1.amazonaws.com'\n",
    "\n",
    "# Uncomment this line to use in production\n",
    "# endpoint_url = 'https://mturk-requester.us-east-1.amazonaws.com'\n",
    " \n",
    "client = boto3.client(\n",
    "    'mturk',\n",
    "    aws_access_key_id=aws_access_key_id,\n",
    "    aws_secret_access_key=aws_secret_access_key,\n",
    "    endpoint_url=endpoint_url,\n",
    "    region_name=region_name\n",
    ")"
   ]
  },
  {
   "cell_type": "code",
   "execution_count": 52,
   "metadata": {},
   "outputs": [
    {
     "name": "stdout",
     "output_type": "stream",
     "text": [
      "{'AvailableBalance': '10000.00', 'ResponseMetadata': {'RequestId': '168c7631-868f-4f60-be34-877ad7aa79d1', 'HTTPStatusCode': 200, 'HTTPHeaders': {'x-amzn-requestid': '168c7631-868f-4f60-be34-877ad7aa79d1', 'content-type': 'application/x-amz-json-1.1', 'content-length': '31', 'date': 'Mon, 25 May 2020 06:36:39 GMT'}, 'RetryAttempts': 0}}\n"
     ]
    }
   ],
   "source": [
    "print(client.get_account_balance())"
   ]
  },
  {
   "cell_type": "code",
   "execution_count": 60,
   "metadata": {},
   "outputs": [],
   "source": [
    "one_minute = 60 # seconds\n",
    "one_hour = 60 * one_minute\n",
    "one_day = 24 * one_hour\n",
    "#qualification.private\n",
    "hit_type_id = []\n",
    "for i in range(10):\n",
    "    hit_type_response = client.create_hit_type(\n",
    "          AutoApprovalDelayInSeconds=10 * one_minute,\n",
    "          AssignmentDurationInSeconds=5 * one_minute,\n",
    "          Reward=str(reward[i]),\n",
    "          Title='NCTU NLP TEST',\n",
    "          Keywords='color,language,fun',\n",
    "          Description='Choose the color that most matches its name',\n",
    "          QualificationRequirements=[\n",
    "                  {\n",
    "                  'QualificationTypeId': '00000000000000000060',\n",
    "                  'Comparator': 'EqualTo',\n",
    "                  'IntegerValues': [1],\n",
    "              },\n",
    "              {\n",
    "                  'QualificationTypeId': '00000000000000000071', # see https://docs.aws.amazon.com/AWSMechTurk/latest/AWSMturkAPI/ApiReference_QualificationRequirementDataStructureArticle.html#ApiReference_QualificationType-IDs\n",
    "                  'Comparator': 'In',\n",
    "                  'LocaleValues': [\n",
    "                      {\n",
    "                          'Country': 'TW'\n",
    "                      },\n",
    "                  ],\n",
    "                  'RequiredToPreview': True,\n",
    "                  'ActionsGuarded': 'PreviewAndAccept'\n",
    "              },\n",
    "          ]\n",
    "      )\n",
    "    \n",
    "    hit_type_id.append(hit_type_response['HITTypeId'])"
   ]
  },
  {
   "cell_type": "code",
   "execution_count": 62,
   "metadata": {},
   "outputs": [],
   "source": [
    "question='''<?xml version=\"1.0\" encoding=\"UTF-8\"?>\n",
    "<ExternalQuestion xmlns=\"http://mechanicalturk.amazonaws.com/AWSMechanicalTurkDataSchemas/2006-07-14/ExternalQuestion.xsd\">\n",
    "  <ExternalURL>https://omelette-314.github.io/Deep_learning_nctu/NLP online/'''+str(1)+'''.html</ExternalURL>\n",
    "  <FrameHeight>800</FrameHeight>\n",
    "</ExternalQuestion>'''\n",
    "\n",
    "response = client.create_hit_with_hit_type(\n",
    "    HITTypeId=hit_type_id[0],\n",
    "    MaxAssignments=3,\n",
    "    LifetimeInSeconds=1 * one_hour,\n",
    "    Question=question,\n",
    "    RequesterAnnotation='NLP',\n",
    ")"
   ]
  },
  {
   "cell_type": "code",
   "execution_count": 63,
   "metadata": {},
   "outputs": [
    {
     "name": "stdout",
     "output_type": "stream",
     "text": [
      "<?xml version=\"1.0\" encoding=\"UTF-8\"?>\n",
      "<ExternalQuestion xmlns=\"http://mechanicalturk.amazonaws.com/AWSMechanicalTurkDataSchemas/2006-07-14/ExternalQuestion.xsd\">\n",
      "  <ExternalURL>https://omelette-314.github.io/Deep_learning_nctu/NLP online/1.html</ExternalURL>\n",
      "  <FrameHeight>800</FrameHeight>\n",
      "</ExternalQuestion>\n"
     ]
    }
   ],
   "source": [
    "print(question)"
   ]
  }
 ],
 "metadata": {
  "kernelspec": {
   "display_name": "Python 3",
   "language": "python",
   "name": "python3"
  },
  "language_info": {
   "codemirror_mode": {
    "name": "ipython",
    "version": 3
   },
   "file_extension": ".py",
   "mimetype": "text/x-python",
   "name": "python",
   "nbconvert_exporter": "python",
   "pygments_lexer": "ipython3",
   "version": "3.6.7"
  }
 },
 "nbformat": 4,
 "nbformat_minor": 2
}
