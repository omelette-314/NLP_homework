{
 "cells": [
  {
   "cell_type": "code",
   "execution_count": null,
   "metadata": {},
   "outputs": [],
   "source": []
  },
  {
   "cell_type": "code",
   "execution_count": 9,
   "metadata": {},
   "outputs": [],
   "source": [
    "from collections import Counter\n",
    "counts = dict()\n",
    "text = ['to','be','or','not','to','be']\n",
    "counts\n",
    "for tk in text:\n",
    "    if tk in counts:\n",
    "        counts[tk] +=1\n",
    "    else:\n",
    "        counts[tk] =1\n",
    "### default dictionary\n"
   ]
  },
  {
   "cell_type": "code",
   "execution_count": 10,
   "metadata": {},
   "outputs": [
    {
     "data": {
      "text/plain": [
       "defaultdict(int, {'be': 2, 'not': 1, 'or': 1, 'to': 2})"
      ]
     },
     "execution_count": 10,
     "metadata": {},
     "output_type": "execute_result"
    }
   ],
   "source": [
    "from collections import defaultdict\n",
    "# 預設新增的dict 中有數值 = 0\n",
    "count = defaultdict(int)\n",
    "count['be']\n",
    "for tk in text:\n",
    "    count[tk] +=1\n",
    "count"
   ]
  },
  {
   "cell_type": "code",
   "execution_count": 11,
   "metadata": {},
   "outputs": [
    {
     "data": {
      "text/plain": [
       "defaultdict(<function __main__.<lambda>>,\n",
       "            {'a': defaultdict(<function __main__.<lambda>.<locals>.<lambda>>,\n",
       "                         {'b': 1})})"
      ]
     },
     "execution_count": 11,
     "metadata": {},
     "output_type": "execute_result"
    }
   ],
   "source": [
    "## 2 -d dictionary\n",
    "# conut 2 gram\n",
    "counts = defaultdict(lambda: defaultdict(lambda:0))\n",
    "counts['a']['b'] +=1\n",
    "counts"
   ]
  },
  {
   "cell_type": "code",
   "execution_count": 17,
   "metadata": {},
   "outputs": [
    {
     "data": {
      "text/plain": [
       "defaultdict(<function __main__.<lambda>>,\n",
       "            {'a': defaultdict(<function __main__.<lambda>.<locals>.<lambda>>,\n",
       "                         {'b': 2, 'c': 1}),\n",
       "             'b': defaultdict(<function __main__.<lambda>.<locals>.<lambda>>,\n",
       "                         {'9487': 0, 'c': 1, 'd': 0}),\n",
       "             'yi_wei': defaultdict(<function __main__.<lambda>.<locals>.<lambda>>,\n",
       "                         {'sleeping': 0})})"
      ]
     },
     "execution_count": 17,
     "metadata": {},
     "output_type": "execute_result"
    }
   ],
   "source": [
    "counts['yi_wei']['sleeping'] \n",
    "counts"
   ]
  },
  {
   "cell_type": "code",
   "execution_count": 55,
   "metadata": {},
   "outputs": [
    {
     "name": "stdout",
     "output_type": "stream",
     "text": [
      "i love\n",
      "love apples\n",
      "apples .\n",
      ". i\n",
      "i love\n",
      "love ice\n",
      "ice cream\n",
      "cream .\n"
     ]
    },
    {
     "ename": "TypeError",
     "evalue": "unsupported operand type(s) for /: 'int' and 'dict_keys'",
     "output_type": "error",
     "traceback": [
      "\u001b[0;31m---------------------------------------------------------------------------\u001b[0m",
      "\u001b[0;31mTypeError\u001b[0m                                 Traceback (most recent call last)",
      "\u001b[0;32m<ipython-input-55-a814d1dc6b40>\u001b[0m in \u001b[0;36m<module>\u001b[0;34m()\u001b[0m\n\u001b[1;32m     14\u001b[0m     \u001b[0mcounts\u001b[0m\u001b[0;34m[\u001b[0m\u001b[0mw1\u001b[0m\u001b[0;34m]\u001b[0m\u001b[0;34m[\u001b[0m\u001b[0mw2\u001b[0m\u001b[0;34m]\u001b[0m\u001b[0;34m+=\u001b[0m\u001b[0;36m1\u001b[0m\u001b[0;34m\u001b[0m\u001b[0;34m\u001b[0m\u001b[0m\n\u001b[1;32m     15\u001b[0m \u001b[0mcounts\u001b[0m\u001b[0;34m[\u001b[0m\u001b[0;34m'love'\u001b[0m\u001b[0;34m]\u001b[0m\u001b[0;34m[\u001b[0m\u001b[0;34m'apples'\u001b[0m\u001b[0;34m]\u001b[0m \u001b[0;34m/\u001b[0m\u001b[0;34m(\u001b[0m\u001b[0mcounts\u001b[0m\u001b[0;34m[\u001b[0m\u001b[0;34m'love'\u001b[0m\u001b[0;34m]\u001b[0m\u001b[0;34m[\u001b[0m\u001b[0;34m'apples'\u001b[0m\u001b[0;34m]\u001b[0m \u001b[0;34m+\u001b[0m \u001b[0mcounts\u001b[0m\u001b[0;34m[\u001b[0m\u001b[0;34m'love'\u001b[0m\u001b[0;34m]\u001b[0m\u001b[0;34m[\u001b[0m\u001b[0;34m'ice'\u001b[0m\u001b[0;34m]\u001b[0m\u001b[0;34m)\u001b[0m\u001b[0;34m\u001b[0m\u001b[0;34m\u001b[0m\u001b[0m\n\u001b[0;32m---> 16\u001b[0;31m \u001b[0mcounts\u001b[0m\u001b[0;34m[\u001b[0m\u001b[0;34m'love'\u001b[0m\u001b[0;34m]\u001b[0m\u001b[0;34m[\u001b[0m\u001b[0;34m'apples'\u001b[0m\u001b[0;34m]\u001b[0m \u001b[0;34m/\u001b[0m\u001b[0;34m(\u001b[0m\u001b[0mcounts\u001b[0m\u001b[0;34m[\u001b[0m\u001b[0;34m'love'\u001b[0m\u001b[0;34m]\u001b[0m\u001b[0;34m.\u001b[0m\u001b[0mkeys\u001b[0m\u001b[0;34m(\u001b[0m\u001b[0;34m)\u001b[0m\u001b[0;34m)\u001b[0m\u001b[0;34m\u001b[0m\u001b[0;34m\u001b[0m\u001b[0m\n\u001b[0m\u001b[1;32m     17\u001b[0m \u001b[0;31m#counts\u001b[0m\u001b[0;34m\u001b[0m\u001b[0;34m\u001b[0m\u001b[0;34m\u001b[0m\u001b[0m\n",
      "\u001b[0;31mTypeError\u001b[0m: unsupported operand type(s) for /: 'int' and 'dict_keys'"
     ]
    }
   ],
   "source": [
    "import nltk\n",
    "counts = defaultdict(lambda: defaultdict(lambda:0))\n",
    "#text = 'hi there, how are you? I am fine. how are you?'.split()\n",
    "text = 'i love apples . i love ice cream .'.split()\n",
    "# what is p('love'|'i')\n",
    "# what is p('apples'|'love')\n",
    "bigrams = nltk.bigrams(text)\n",
    "#print(bigrams)\n",
    "#big = list(bigrams)\n",
    "# 加上 list(bigrams) 會變empty (╬☉д⊙)\n",
    "#print((bigrams))\n",
    "for w1,w2 in bigrams:\n",
    "    print(w1,w2)\n",
    "    counts[w1][w2]+=1\n",
    "counts['love']['apples'] /(counts['love']['apples'] + counts['love']['ice'])\n",
    "counts['love']['apples'] /(counts['love'].keys())\n",
    "#counts"
   ]
  },
  {
   "cell_type": "code",
   "execution_count": 77,
   "metadata": {},
   "outputs": [
    {
     "name": "stdout",
     "output_type": "stream",
     "text": [
      "['<s>', 'this', 'is', 'a', 'very', 'famous', 'line', 'to', 'be', 'or', 'not', 'to', 'be', 'this', 'is', 'the', 'question', '</s>']\n"
     ]
    },
    {
     "data": {
      "text/plain": [
       "[('<s>', 'this'),\n",
       " ('this', 'is'),\n",
       " ('is', 'a'),\n",
       " ('a', 'very'),\n",
       " ('very', 'famous'),\n",
       " ('famous', 'line'),\n",
       " ('line', 'to'),\n",
       " ('to', 'be'),\n",
       " ('be', 'or'),\n",
       " ('or', 'not'),\n",
       " ('not', 'to'),\n",
       " ('to', 'be'),\n",
       " ('be', 'this'),\n",
       " ('this', 'is'),\n",
       " ('is', 'the'),\n",
       " ('the', 'question'),\n",
       " ('question', '</s>')]"
      ]
     },
     "execution_count": 77,
     "metadata": {},
     "output_type": "execute_result"
    }
   ],
   "source": [
    "import re\n",
    "corpus = 'This is a most famous line :To be, or not to be. that is the question'\n",
    "corpus =[token for token in re.split('\\W+',corpus.lower()) if token !='']\n",
    "corpus = ['<s>'] + corpus +['</s>']\n",
    "print(corpus)\n",
    "corpus_bigrams = list(nltk.bigrams(corpus))\n",
    "corpus_bigrams"
   ]
  },
  {
   "cell_type": "code",
   "execution_count": 78,
   "metadata": {},
   "outputs": [
    {
     "name": "stdout",
     "output_type": "stream",
     "text": [
      "['<s>', 'what', 'is', 'the', 'question', '</s>']\n"
     ]
    },
    {
     "data": {
      "text/plain": [
       "[('<s>', 'what'),\n",
       " ('what', 'is'),\n",
       " ('is', 'the'),\n",
       " ('the', 'question'),\n",
       " ('question', '</s>')]"
      ]
     },
     "execution_count": 78,
     "metadata": {},
     "output_type": "execute_result"
    }
   ],
   "source": [
    "sentence = 'What is the question?'\n",
    "sentence = [token for token in re.split('\\W+',sentence.lower()) if token !='']\n",
    "sentence = ['<s>'] + sentence +['</s>']\n",
    "print(sentence)\n",
    "sentence_bigrams = list(nltk.bigrams(sentence))\n",
    "sentence_bigrams"
   ]
  },
  {
   "cell_type": "code",
   "execution_count": 79,
   "metadata": {},
   "outputs": [
    {
     "data": {
      "text/plain": [
       "['this',\n",
       " 'is',\n",
       " 'to',\n",
       " 'be',\n",
       " '<s>',\n",
       " 'a',\n",
       " 'very',\n",
       " 'famous',\n",
       " 'line',\n",
       " 'or',\n",
       " 'not',\n",
       " 'the',\n",
       " 'question',\n",
       " '</s>']"
      ]
     },
     "execution_count": 79,
     "metadata": {},
     "output_type": "execute_result"
    }
   ],
   "source": [
    "vocab = Counter(corpus)\n",
    "vocab = [token for token,freq in vocab.most_common()]\n",
    "vocab"
   ]
  },
  {
   "cell_type": "code",
   "execution_count": 80,
   "metadata": {},
   "outputs": [],
   "source": [
    "counts = defaultdict(lambda: defaultdict(lambda:0))\n",
    "for w1,w2 in corpus_bigrams:\n",
    "    #print(w1,w2)\n",
    "    counts[w1][w2]+=1"
   ]
  },
  {
   "cell_type": "code",
   "execution_count": 81,
   "metadata": {},
   "outputs": [
    {
     "data": {
      "text/plain": [
       "[0, 0, 1, 1, 1]"
      ]
     },
     "execution_count": 81,
     "metadata": {},
     "output_type": "execute_result"
    }
   ],
   "source": [
    "[counts[w1][w2] for w1,w2 in sentence_bigrams]"
   ]
  },
  {
   "cell_type": "code",
   "execution_count": 82,
   "metadata": {},
   "outputs": [
    {
     "data": {
      "text/plain": [
       "[1, 0, 2, 1, 1]"
      ]
     },
     "execution_count": 82,
     "metadata": {},
     "output_type": "execute_result"
    }
   ],
   "source": [
    "[sum(counts[w1].values()) for w1,w2 in sentence_bigrams]"
   ]
  },
  {
   "cell_type": "code",
   "execution_count": 88,
   "metadata": {},
   "outputs": [],
   "source": [
    "#[counts[w1][w2]/sum(counts[w1].values()) for w1,w2 in sentence_bigrams] #會divide by zero\n",
    "import numpy as np"
   ]
  },
  {
   "cell_type": "code",
   "execution_count": 89,
   "metadata": {},
   "outputs": [],
   "source": [
    "#Laplace\n",
    "a = [1+counts[w1][w2] for w1,w2 in sentence_bigrams]\n",
    "b = [len(vocab) + sum(counts[w1].values()) for w1,w2 in sentence_bigrams] #N+C\n",
    "prob = np.divide(a,b)"
   ]
  },
  {
   "cell_type": "code",
   "execution_count": 90,
   "metadata": {},
   "outputs": [
    {
     "data": {
      "text/plain": [
       "array([0.06666667, 0.07142857, 0.125     , 0.13333333, 0.13333333])"
      ]
     },
     "execution_count": 90,
     "metadata": {},
     "output_type": "execute_result"
    }
   ],
   "source": [
    "prob"
   ]
  },
  {
   "cell_type": "code",
   "execution_count": 91,
   "metadata": {},
   "outputs": [
    {
     "data": {
      "text/plain": [
       "1.058201058201058e-05"
      ]
     },
     "execution_count": 91,
     "metadata": {},
     "output_type": "execute_result"
    }
   ],
   "source": [
    "np.prod(prob) #"
   ]
  },
  {
   "cell_type": "code",
   "execution_count": 96,
   "metadata": {},
   "outputs": [
    {
     "data": {
      "text/plain": [
       "9.887496930946131"
      ]
     },
     "execution_count": 96,
     "metadata": {},
     "output_type": "execute_result"
    }
   ],
   "source": [
    "# perplexity\n",
    "import math\n",
    "N = len(sentence_bigrams)\n",
    "cross_entropy = -1/N *sum([math.log(p,2) for p in prob])\n",
    "math.pow(2,cross_entropy)\n",
    "#math.pow(np.prod(prob),-1/N)"
   ]
  },
  {
   "cell_type": "code",
   "execution_count": 95,
   "metadata": {},
   "outputs": [
    {
     "data": {
      "text/plain": [
       "9.887496930946131"
      ]
     },
     "execution_count": 95,
     "metadata": {},
     "output_type": "execute_result"
    }
   ],
   "source": [
    "math.pow(np.prod(prob),-1/N)"
   ]
  }
 ],
 "metadata": {
  "kernelspec": {
   "display_name": "Python 3",
   "language": "python",
   "name": "python3"
  },
  "language_info": {
   "codemirror_mode": {
    "name": "ipython",
    "version": 3
   },
   "file_extension": ".py",
   "mimetype": "text/x-python",
   "name": "python",
   "nbconvert_exporter": "python",
   "pygments_lexer": "ipython3",
   "version": "3.6.7"
  }
 },
 "nbformat": 4,
 "nbformat_minor": 2
}
